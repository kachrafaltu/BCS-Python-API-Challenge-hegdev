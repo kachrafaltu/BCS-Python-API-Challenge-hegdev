{
 "cells": [
  {
   "cell_type": "markdown",
   "metadata": {},
   "source": [
    "# VacationPy\n",
    "----\n",
    "\n",
    "#### Note\n",
    "* Keep an eye on your API usage. Use https://developers.google.com/maps/reporting/gmp-reporting as reference for how to monitor your usage and billing.\n",
    "\n",
    "* Instructions have been included for each segment. You do not have to follow them exactly, but they are included to help you think through the steps."
   ]
  },
  {
   "cell_type": "code",
   "execution_count": 1,
   "metadata": {},
   "outputs": [],
   "source": [
    "# Dependencies and Setup\n",
    "import matplotlib.pyplot as plt\n",
    "import pandas as pd\n",
    "import numpy as np\n",
    "import requests\n",
    "import gmaps\n",
    "import os\n",
    "from pprint import pprint\n",
    "\n",
    "# Import API key\n",
    "from api_keys import g_key"
   ]
  },
  {
   "cell_type": "markdown",
   "metadata": {},
   "source": [
    "### Store Part I results into DataFrame\n",
    "* Load the csv exported in Part I to a DataFrame"
   ]
  },
  {
   "cell_type": "code",
   "execution_count": 2,
   "metadata": {},
   "outputs": [
    {
     "data": {
      "text/html": [
       "<div>\n",
       "<style scoped>\n",
       "    .dataframe tbody tr th:only-of-type {\n",
       "        vertical-align: middle;\n",
       "    }\n",
       "\n",
       "    .dataframe tbody tr th {\n",
       "        vertical-align: top;\n",
       "    }\n",
       "\n",
       "    .dataframe thead th {\n",
       "        text-align: right;\n",
       "    }\n",
       "</style>\n",
       "<table border=\"1\" class=\"dataframe\">\n",
       "  <thead>\n",
       "    <tr style=\"text-align: right;\">\n",
       "      <th></th>\n",
       "      <th>Unnamed: 0</th>\n",
       "      <th>Lattitude</th>\n",
       "      <th>Longitude</th>\n",
       "      <th>Temperature</th>\n",
       "      <th>Max Temperature</th>\n",
       "      <th>Humidity</th>\n",
       "      <th>Pressure</th>\n",
       "      <th>Cloud Cover</th>\n",
       "      <th>Wind Speed</th>\n",
       "      <th>Feels Like</th>\n",
       "    </tr>\n",
       "  </thead>\n",
       "  <tbody>\n",
       "    <tr>\n",
       "      <th>count</th>\n",
       "      <td>506.000000</td>\n",
       "      <td>506.000000</td>\n",
       "      <td>506.000000</td>\n",
       "      <td>506.000000</td>\n",
       "      <td>506.000000</td>\n",
       "      <td>506.000000</td>\n",
       "      <td>506.000000</td>\n",
       "      <td>506.00000</td>\n",
       "      <td>506.000000</td>\n",
       "      <td>506.000000</td>\n",
       "    </tr>\n",
       "    <tr>\n",
       "      <th>mean</th>\n",
       "      <td>276.664032</td>\n",
       "      <td>20.891146</td>\n",
       "      <td>20.299011</td>\n",
       "      <td>58.522431</td>\n",
       "      <td>59.308953</td>\n",
       "      <td>73.000000</td>\n",
       "      <td>1012.509881</td>\n",
       "      <td>57.44664</td>\n",
       "      <td>7.959842</td>\n",
       "      <td>57.215968</td>\n",
       "    </tr>\n",
       "    <tr>\n",
       "      <th>std</th>\n",
       "      <td>158.508274</td>\n",
       "      <td>33.484612</td>\n",
       "      <td>93.296601</td>\n",
       "      <td>19.804133</td>\n",
       "      <td>19.845622</td>\n",
       "      <td>18.282817</td>\n",
       "      <td>11.351142</td>\n",
       "      <td>40.49156</td>\n",
       "      <td>5.898052</td>\n",
       "      <td>23.476429</td>\n",
       "    </tr>\n",
       "    <tr>\n",
       "      <th>min</th>\n",
       "      <td>0.000000</td>\n",
       "      <td>-54.800000</td>\n",
       "      <td>-179.166700</td>\n",
       "      <td>-1.530000</td>\n",
       "      <td>-1.530000</td>\n",
       "      <td>16.000000</td>\n",
       "      <td>876.000000</td>\n",
       "      <td>0.00000</td>\n",
       "      <td>0.000000</td>\n",
       "      <td>-13.450000</td>\n",
       "    </tr>\n",
       "    <tr>\n",
       "      <th>25%</th>\n",
       "      <td>138.250000</td>\n",
       "      <td>-6.239300</td>\n",
       "      <td>-66.179825</td>\n",
       "      <td>43.800000</td>\n",
       "      <td>44.755000</td>\n",
       "      <td>62.000000</td>\n",
       "      <td>1010.000000</td>\n",
       "      <td>13.00000</td>\n",
       "      <td>3.315000</td>\n",
       "      <td>39.592500</td>\n",
       "    </tr>\n",
       "    <tr>\n",
       "      <th>50%</th>\n",
       "      <td>280.500000</td>\n",
       "      <td>26.352900</td>\n",
       "      <td>25.451700</td>\n",
       "      <td>60.845000</td>\n",
       "      <td>62.150000</td>\n",
       "      <td>77.000000</td>\n",
       "      <td>1013.000000</td>\n",
       "      <td>75.00000</td>\n",
       "      <td>6.400000</td>\n",
       "      <td>59.570000</td>\n",
       "    </tr>\n",
       "    <tr>\n",
       "      <th>75%</th>\n",
       "      <td>413.750000</td>\n",
       "      <td>48.508325</td>\n",
       "      <td>104.809250</td>\n",
       "      <td>76.507500</td>\n",
       "      <td>76.525000</td>\n",
       "      <td>86.000000</td>\n",
       "      <td>1018.000000</td>\n",
       "      <td>98.00000</td>\n",
       "      <td>11.500000</td>\n",
       "      <td>77.245000</td>\n",
       "    </tr>\n",
       "    <tr>\n",
       "      <th>max</th>\n",
       "      <td>548.000000</td>\n",
       "      <td>78.218600</td>\n",
       "      <td>179.316700</td>\n",
       "      <td>96.940000</td>\n",
       "      <td>96.940000</td>\n",
       "      <td>100.000000</td>\n",
       "      <td>1041.000000</td>\n",
       "      <td>100.00000</td>\n",
       "      <td>34.520000</td>\n",
       "      <td>100.200000</td>\n",
       "    </tr>\n",
       "  </tbody>\n",
       "</table>\n",
       "</div>"
      ],
      "text/plain": [
       "       Unnamed: 0   Lattitude   Longitude  Temperature  Max Temperature  \\\n",
       "count  506.000000  506.000000  506.000000   506.000000       506.000000   \n",
       "mean   276.664032   20.891146   20.299011    58.522431        59.308953   \n",
       "std    158.508274   33.484612   93.296601    19.804133        19.845622   \n",
       "min      0.000000  -54.800000 -179.166700    -1.530000        -1.530000   \n",
       "25%    138.250000   -6.239300  -66.179825    43.800000        44.755000   \n",
       "50%    280.500000   26.352900   25.451700    60.845000        62.150000   \n",
       "75%    413.750000   48.508325  104.809250    76.507500        76.525000   \n",
       "max    548.000000   78.218600  179.316700    96.940000        96.940000   \n",
       "\n",
       "         Humidity     Pressure  Cloud Cover  Wind Speed  Feels Like  \n",
       "count  506.000000   506.000000    506.00000  506.000000  506.000000  \n",
       "mean    73.000000  1012.509881     57.44664    7.959842   57.215968  \n",
       "std     18.282817    11.351142     40.49156    5.898052   23.476429  \n",
       "min     16.000000   876.000000      0.00000    0.000000  -13.450000  \n",
       "25%     62.000000  1010.000000     13.00000    3.315000   39.592500  \n",
       "50%     77.000000  1013.000000     75.00000    6.400000   59.570000  \n",
       "75%     86.000000  1018.000000     98.00000   11.500000   77.245000  \n",
       "max    100.000000  1041.000000    100.00000   34.520000  100.200000  "
      ]
     },
     "execution_count": 2,
     "metadata": {},
     "output_type": "execute_result"
    }
   ],
   "source": [
    "clean_city_weather_df=pd.read_csv(\"City_Weather_Clean.csv\")\n",
    "clean_city_weather_df\n",
    "clean_city_weather_df.describe()\n"
   ]
  },
  {
   "cell_type": "markdown",
   "metadata": {},
   "source": [
    "### Humidity Heatmap\n",
    "* Configure gmaps.\n",
    "* Use the Lat and Lng as locations and Humidity as the weight.\n",
    "* Add Heatmap layer to map."
   ]
  },
  {
   "cell_type": "code",
   "execution_count": 3,
   "metadata": {},
   "outputs": [],
   "source": [
    "gmaps.configure(api_key=g_key)\n",
    "locations = clean_city_weather_df[[\"Lattitude\", \"Longitude\"]]"
   ]
  },
  {
   "cell_type": "code",
   "execution_count": 4,
   "metadata": {},
   "outputs": [
    {
     "data": {
      "application/vnd.jupyter.widget-view+json": {
       "model_id": "c3e7ee4c96e54fc7bbc8461ba5d13238",
       "version_major": 2,
       "version_minor": 0
      },
      "text/plain": [
       "Figure(layout=FigureLayout(height='420px'))"
      ]
     },
     "metadata": {},
     "output_type": "display_data"
    }
   ],
   "source": [
    "humidity = clean_city_weather_df[\"Humidity\"]\n",
    "# Create a poverty Heatmap layer\n",
    "fig = gmaps.figure()\n",
    "\n",
    "heat_layer = gmaps.heatmap_layer(locations, weights=humidity, \n",
    "                                 dissipating=False, max_intensity=100,\n",
    "                                 point_radius = 1)\n",
    "\n",
    "fig.add_layer(heat_layer)\n",
    "\n",
    "fig"
   ]
  },
  {
   "cell_type": "markdown",
   "metadata": {},
   "source": [
    "### Create new DataFrame fitting weather criteria\n",
    "* Narrow down the cities to fit weather conditions.\n",
    "* Drop any rows will null values."
   ]
  },
  {
   "cell_type": "code",
   "execution_count": 5,
   "metadata": {},
   "outputs": [
    {
     "name": "stdout",
     "output_type": "stream",
     "text": [
      " City avarua -> Hotel : The Islander Hotel\n",
      " City bela -> Hotel : Hotel Rajvilla\n",
      " City salta -> Hotel : Sheraton Salta Hotel\n",
      " City baringo -> Hotel : Ronella Cottages\n"
     ]
    },
    {
     "data": {
      "text/html": [
       "<div>\n",
       "<style scoped>\n",
       "    .dataframe tbody tr th:only-of-type {\n",
       "        vertical-align: middle;\n",
       "    }\n",
       "\n",
       "    .dataframe tbody tr th {\n",
       "        vertical-align: top;\n",
       "    }\n",
       "\n",
       "    .dataframe thead th {\n",
       "        text-align: right;\n",
       "    }\n",
       "</style>\n",
       "<table border=\"1\" class=\"dataframe\">\n",
       "  <thead>\n",
       "    <tr style=\"text-align: right;\">\n",
       "      <th></th>\n",
       "      <th>City</th>\n",
       "      <th>Hotel Name</th>\n",
       "      <th>City Lattitude</th>\n",
       "      <th>City Longitude</th>\n",
       "      <th>Hotel Lattitude</th>\n",
       "      <th>Hotel Longitude</th>\n",
       "    </tr>\n",
       "  </thead>\n",
       "  <tbody>\n",
       "    <tr>\n",
       "      <th>0</th>\n",
       "      <td>122</td>\n",
       "      <td>The Islander Hotel</td>\n",
       "      <td>-21.2078</td>\n",
       "      <td>-159.7750</td>\n",
       "      <td>-21.199053</td>\n",
       "      <td>-159.795700</td>\n",
       "    </tr>\n",
       "    <tr>\n",
       "      <th>1</th>\n",
       "      <td>317</td>\n",
       "      <td>Hotel Rajvilla</td>\n",
       "      <td>25.9333</td>\n",
       "      <td>81.9833</td>\n",
       "      <td>25.921166</td>\n",
       "      <td>82.003705</td>\n",
       "    </tr>\n",
       "    <tr>\n",
       "      <th>2</th>\n",
       "      <td>503</td>\n",
       "      <td>Sheraton Salta Hotel</td>\n",
       "      <td>-24.7859</td>\n",
       "      <td>-65.4117</td>\n",
       "      <td>-24.785364</td>\n",
       "      <td>-65.398213</td>\n",
       "    </tr>\n",
       "    <tr>\n",
       "      <th>3</th>\n",
       "      <td>539</td>\n",
       "      <td>Ronella Cottages</td>\n",
       "      <td>0.4667</td>\n",
       "      <td>35.9667</td>\n",
       "      <td>0.450603</td>\n",
       "      <td>35.965725</td>\n",
       "    </tr>\n",
       "  </tbody>\n",
       "</table>\n",
       "</div>"
      ],
      "text/plain": [
       "   City            Hotel Name  City Lattitude  City Longitude  \\\n",
       "0   122    The Islander Hotel        -21.2078       -159.7750   \n",
       "1   317        Hotel Rajvilla         25.9333         81.9833   \n",
       "2   503  Sheraton Salta Hotel        -24.7859        -65.4117   \n",
       "3   539      Ronella Cottages          0.4667         35.9667   \n",
       "\n",
       "   Hotel Lattitude  Hotel Longitude  \n",
       "0       -21.199053      -159.795700  \n",
       "1        25.921166        82.003705  \n",
       "2       -24.785364       -65.398213  \n",
       "3         0.450603        35.965725  "
      ]
     },
     "execution_count": 5,
     "metadata": {},
     "output_type": "execute_result"
    }
   ],
   "source": [
    "# we pick cities with pleasant temps from 70 to 75 degrees\n",
    "bucket_list_cities = clean_city_weather_df[(clean_city_weather_df[\"Max Temperature\"] >= 70) &  (clean_city_weather_df[\"Max Temperature\"] <= 75)]\n",
    "bucket_list_cities.describe()\n",
    "city_list=[]\n",
    "hotel_list=[]\n",
    "country_list=[]\n",
    "hotel_lat=[]\n",
    "hotel_lng=[]\n",
    "city_lat=[]\n",
    "city_lng=[]\n",
    "\n",
    "# We filter it further to cities with comfortable humidites from 30 to 65\n",
    "bucket_list_cities=bucket_list_cities[(bucket_list_cities[\"Humidity\"] >= 30) &  (bucket_list_cities[\"Humidity\"] <= 65)]\n",
    "# We then filter it to sunny cities with low cloud cover\n",
    "hotel_df=bucket_list_cities[(bucket_list_cities[\"Cloud Cover\"] >= 0) &  (bucket_list_cities[\"Cloud Cover\"] <= 65)]\n",
    "# We now call the places API for each of the cities and store the first hotel name in a list\n",
    "# we also store the lattitude and longitude for building a dataframe\n",
    "for i, row in enumerate(hotel_df.values):\n",
    "    # geocoordinates\n",
    "    target_coordinates = f\"{row[2]}, {row[3]}\"\n",
    "    target_search = \"Hotel\"\n",
    "    target_radius = 5000\n",
    "    target_type = \"Hotel\"\n",
    "    # set up a parameters dictionary\n",
    "    params = {\n",
    "        \"location\": target_coordinates,\n",
    "        \"keyword\": target_search,\n",
    "        \"radius\": target_radius,\n",
    "        \"type\": target_type,\n",
    "        \"key\": g_key\n",
    "    }\n",
    "\n",
    "    # base url\n",
    "    base_url = \"https://maps.googleapis.com/maps/api/place/nearbysearch/json\"\n",
    "\n",
    "    # run a request using our params dictionary\n",
    "    response = requests.get(base_url, params=params)\n",
    "    # convert response to json\n",
    "    places_data = response.json()\n",
    "    #pprint(places_data)\n",
    "    print(f' City {row[1]} -> Hotel : {places_data[\"results\"][0][\"name\"]}')\n",
    "    city_list.append(row[0])\n",
    "    hotel_list.append(places_data[\"results\"][0][\"name\"])\n",
    "    country_list.append(places_data[\"results\"][0][\"name\"])\n",
    "    city_lat.append(row[2])\n",
    "    city_lng.append(row[3])\n",
    "    hotel_lat.append(places_data[\"results\"][0][\"geometry\"][\"location\"][\"lat\"])\n",
    "    hotel_lng.append(places_data[\"results\"][0][\"geometry\"][\"location\"][\"lng\"])\n",
    "\n",
    "hotel_results_df = pd.DataFrame({\"City\": city_list,\n",
    "                                 \"Hotel Name\": hotel_list,\n",
    "                                 \"City Lattitude\":city_lat,\n",
    "                                 \"City Longitude\":city_lng,\n",
    "                                 \"Hotel Lattitude\":hotel_lat,\n",
    "                                 \"Hotel Longitude\":hotel_lng\n",
    "                                })\n",
    "hotel_results_df\n",
    "    "
   ]
  },
  {
   "cell_type": "code",
   "execution_count": 6,
   "metadata": {},
   "outputs": [
    {
     "data": {
      "application/vnd.jupyter.widget-view+json": {
       "model_id": "e839121c74074e959df2b71b6b29f6df",
       "version_major": 2,
       "version_minor": 0
      },
      "text/plain": [
       "Figure(layout=FigureLayout(border='1px solid black', height='300px', margin='0 auto 0 auto', padding='1px', wi…"
      ]
     },
     "metadata": {},
     "output_type": "display_data"
    }
   ],
   "source": [
    "# we create the locations list for gmaps layer api for hotel markers\n",
    "hotel_locations = hotel_results_df[[\"Hotel Lattitude\", \"Hotel Longitude\"]]\n",
    "\n",
    "figure_layout = {\n",
    "    'width': '400px',\n",
    "    'height': '300px',\n",
    "    'border': '1px solid black',\n",
    "    'padding': '1px',\n",
    "    'margin': '0 auto 0 auto'\n",
    "}\n",
    "fig = gmaps.figure(layout=figure_layout)\n",
    "# Assign the marker layer to a variable\n",
    "markers = gmaps.marker_layer(hotel_locations)\n",
    "# Add the layer to the map\n",
    "fig.add_layer(markers)\n",
    "fig\n",
    "\n",
    "\n"
   ]
  },
  {
   "cell_type": "code",
   "execution_count": 7,
   "metadata": {},
   "outputs": [
    {
     "data": {
      "application/vnd.jupyter.widget-view+json": {
       "model_id": "9108d9d67c1c486a97002c7c7a88e359",
       "version_major": 2,
       "version_minor": 0
      },
      "text/plain": [
       "Figure(layout=FigureLayout(height='420px'))"
      ]
     },
     "metadata": {},
     "output_type": "display_data"
    }
   ],
   "source": [
    "# we combine both the layers here\n",
    "fig = gmaps.figure()\n",
    "\n",
    "fig.add_layer(heat_layer)\n",
    "fig.add_layer(markers)\n",
    "\n",
    "fig"
   ]
  },
  {
   "cell_type": "code",
   "execution_count": null,
   "metadata": {},
   "outputs": [],
   "source": []
  }
 ],
 "metadata": {
  "kernelspec": {
   "display_name": "Python 3",
   "language": "python",
   "name": "python3"
  },
  "language_info": {
   "codemirror_mode": {
    "name": "ipython",
    "version": 3
   },
   "file_extension": ".py",
   "mimetype": "text/x-python",
   "name": "python",
   "nbconvert_exporter": "python",
   "pygments_lexer": "ipython3",
   "version": "3.8.8"
  },
  "latex_envs": {
   "LaTeX_envs_menu_present": true,
   "autoclose": false,
   "autocomplete": true,
   "bibliofile": "biblio.bib",
   "cite_by": "apalike",
   "current_citInitial": 1,
   "eqLabelWithNumbers": true,
   "eqNumInitial": 1,
   "hotkeys": {
    "equation": "Ctrl-E",
    "itemize": "Ctrl-I"
   },
   "labels_anchors": false,
   "latex_user_defs": false,
   "report_style_numbering": false,
   "user_envs_cfg": false
  }
 },
 "nbformat": 4,
 "nbformat_minor": 4
}
